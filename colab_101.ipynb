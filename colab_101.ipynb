{
  "nbformat": 4,
  "nbformat_minor": 0,
  "metadata": {
    "colab": {
      "name": "colab_101.ipynb",
      "version": "0.3.2",
      "provenance": [],
      "collapsed_sections": []
    },
    "kernelspec": {
      "name": "python3",
      "display_name": "Python 3"
    }
  },
  "cells": [
    {
      "cell_type": "markdown",
      "metadata": {
        "id": "view-in-github",
        "colab_type": "text"
      },
      "source": [
        "[View in Colaboratory](https://colab.research.google.com/github/ROZBEH/rozbeh.github.io/blob/master/colab_101.ipynb)"
      ]
    },
    {
      "metadata": {
        "id": "bmE9_UuVeEE1",
        "colab_type": "text"
      },
      "cell_type": "markdown",
      "source": [
        "### In this session we are going to talk about the basics colab. These basics include:\n",
        "1. Using colab enivironment as command line\n",
        "2. Reading file from local google drive\n",
        "3. Reading file from your local machine\n",
        "4. Downloading file to your local machine!\n",
        "5. Notes!"
      ]
    },
    {
      "metadata": {
        "id": "may1RyYCewuG",
        "colab_type": "text"
      },
      "cell_type": "markdown",
      "source": [
        "#### 1. Using colab environment as command line"
      ]
    },
    {
      "metadata": {
        "id": "VT0EUyCfezGV",
        "colab_type": "text"
      },
      "cell_type": "markdown",
      "source": [
        "By using excalamation mark in front of any **command** colab will treat it as terminal command. For example one could use **!ls** to list the files in the current directory. Here are few examples:\n",
        "\n",
        "\n",
        "1.   `!wget \"http://datasets.d2.mpi-inf.mpg.de/MPIIGaze/MPIIGaze.tar.gz\"` \n",
        "      <br>*for downloading the file*</br>\n",
        "2.   `!unzip myfile.zip` \n",
        "      <br>*for unzipping myfile.zip file*</br>\n",
        "3.   `!pip install -U -q PyDrive`\n",
        "      <br> *Installing Python libraries*</br>\n",
        "4.   `!apt-get install tar`\n",
        "      <br> *Installing command line dependencies*</br>\n",
        "5.   `!rm Test.py`\n",
        "      <br> *removing the file Test.py from server* </br>"
      ]
    },
    {
      "metadata": {
        "id": "CVG2UE6Ega7s",
        "colab_type": "text"
      },
      "cell_type": "markdown",
      "source": [
        "#### 2. Reading file from google drive into colab environment"
      ]
    },
    {
      "metadata": {
        "id": "snXvljqOggxO",
        "colab_type": "text"
      },
      "cell_type": "markdown",
      "source": [
        "If you are working with Python and you have a lot of files to deal with, it is more convinient to upload your files to Google Drive and read them from there. First you need to give access to colab in order to read your files. I should also mention that colab file should be stored in the same Google account as Google Drive. First use the following command to use the python utility for accessing Google drive!"
      ]
    },
    {
      "metadata": {
        "id": "vyIEyWiIlu4b",
        "colab_type": "text"
      },
      "cell_type": "markdown",
      "source": [
        "`!pip install -U -q PyDrive`"
      ]
    },
    {
      "metadata": {
        "id": "H9usl2NClhAP",
        "colab_type": "text"
      },
      "cell_type": "markdown",
      "source": [
        "Use the following code snippet in order to give access to your Google Drive."
      ]
    },
    {
      "metadata": {
        "id": "GD3vrZ4el55x",
        "colab_type": "text"
      },
      "cell_type": "markdown",
      "source": [
        "\n",
        "\n",
        "```\n",
        "import os\n",
        "from pydrive.auth import GoogleAuth\n",
        "from pydrive.drive import GoogleDrive\n",
        "from google.colab import auth\n",
        "from oauth2client.client import GoogleCredentials\n",
        "\n",
        "auth.authenticate_user()\n",
        "gauth = GoogleAuth()\n",
        "gauth.credentials = GoogleCredentials.get_application_default()\n",
        "drive = GoogleDrive(gauth)\n",
        "```\n",
        "\n"
      ]
    },
    {
      "metadata": {
        "id": "aK_n_Ks8mA61",
        "colab_type": "text"
      },
      "cell_type": "markdown",
      "source": [
        "Once you give access to colab, now it's time to specify the name of the folder that you want to read its containing files. For now we just focus on the files inside a folder NOT folders inside folder. The alphanumerical code **1pqZR3iYuwvVAw6BhSXHymQysIQVG8bnb** specifies the link that shows in your browser when you are inside the specifc folder. If you are inside a folder in Google Drive and look the browser URL, some codes like this will be at the end of URL. "
      ]
    },
    {
      "metadata": {
        "id": "Uq-cEWgsmZVg",
        "colab_type": "text"
      },
      "cell_type": "markdown",
      "source": [
        "\n",
        "\n",
        "```\n",
        "local_download_path = os.path.expanduser('~/data')\n",
        "try:\n",
        "  os.makedirs(local_download_path)\n",
        "except: pass\n",
        "\n",
        "file_list = drive.ListFile(\n",
        "    {'q': \"'1pqZR3iYuwvVAw6BhSXHymQysIQVG8bnb' in parents\"}).GetList()\n",
        "\n",
        "```\n",
        "\n"
      ]
    },
    {
      "metadata": {
        "id": "aQHKPfqLnGJQ",
        "colab_type": "text"
      },
      "cell_type": "markdown",
      "source": [
        "Once you read this specific folder, all the files will be stored inside `file_list`. In order to read some specific files you can commands like the following one. This command will download the files from your Google Drive to the local folder on server. \n",
        "\n",
        "```\n",
        "for f in file_list:\n",
        "  print('title: %s, id: %s' % (f['title'], f['id']))\n",
        "  fname = os.path.join(local_download_path, f['title'])\n",
        "  print('downloading to {}'.format(fname))\n",
        "  f_ = drive.CreateFile({'id': f['id']})\n",
        "  f_.GetContentFile(fname)\n",
        "```\n",
        "\n"
      ]
    },
    {
      "metadata": {
        "id": "SFfP1t-Snk-6",
        "colab_type": "text"
      },
      "cell_type": "markdown",
      "source": [
        "Once the file is downloaded to the local folder on server which is usually on a folder like `/content/data/`\n",
        "<br>\n",
        "A little description about the following code snippet. Suppose we used the previous code snippet downloaded the `dev_brown.txt` file from Google Drive to local folder on server `/content/data/dev_brown.txt`, in order to read the file content and we just have to use the two following lines of python code.\n",
        "\n",
        "\n",
        "```\n",
        "text_file = open (\"/content/data/dev_brown.txt\",'r')\n",
        "lines = text_file.readlines()\n",
        "```\n",
        "\n",
        "\n"
      ]
    },
    {
      "metadata": {
        "id": "Ij-KqihOqCW7",
        "colab_type": "text"
      },
      "cell_type": "markdown",
      "source": [
        "#### 3. Reading file from your local machine to colab environment"
      ]
    },
    {
      "metadata": {
        "id": "o83KN7IUqHBB",
        "colab_type": "text"
      },
      "cell_type": "markdown",
      "source": [
        "If you have a file in your local machine and you want to upload it to the server local drive, use the following code snippet!\n",
        "\n",
        "\n",
        "```\n",
        "from google.colab import files\n",
        "uploaded = files.upload()\n",
        "for fn in uploaded.keys():\n",
        "  print('User uploaded file \"{name}\" with length {length} bytes'.format(\n",
        "      name=fn, length=len(uploaded[fn])))\n",
        "```\n",
        "\n"
      ]
    },
    {
      "metadata": {
        "id": "HrVyAcaVrUTK",
        "colab_type": "text"
      },
      "cell_type": "markdown",
      "source": [
        "#### 4. Downloading file to your local machine"
      ]
    },
    {
      "metadata": {
        "id": "shxr0LpdrZ2B",
        "colab_type": "text"
      },
      "cell_type": "markdown",
      "source": [
        "If you want to save some files from server into your local machine, use the following commands.\n",
        "\n",
        "```\n",
        "from google.colab import files\n",
        "with open('example.txt', 'w') as f:\n",
        "  f.write('some content')\n",
        "files.download('example.txt')\n",
        "```"
      ]
    },
    {
      "metadata": {
        "id": "ze0ZnG2Y29V2",
        "colab_type": "text"
      },
      "cell_type": "markdown",
      "source": [
        "#### 5. Notes"
      ]
    },
    {
      "metadata": {
        "id": "HGdLn6z42_Do",
        "colab_type": "text"
      },
      "cell_type": "markdown",
      "source": [
        "\n",
        "\n",
        "*   If you want to connect the colab to your local machine, try to use this link.\n",
        "https://research.google.com/colaboratory/local-runtimes.html\n",
        "*   It is not to connect to a workspace on google colab while another code is still running on the same work space! You sould wait for the previous one to finish and then run your code!\n",
        "*   You have 12 hours to finish your task on Colab otherwise all of your files and results will be deleted.\n",
        "\n",
        "\n"
      ]
    }
  ]
}